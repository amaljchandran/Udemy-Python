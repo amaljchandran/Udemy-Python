{
 "cells": [
  {
   "cell_type": "markdown",
   "id": "c8014c79-a621-4a74-adf4-96adb7370d98",
   "metadata": {},
   "source": [
    "# Using loops for pythom"
   ]
  },
  {
   "cell_type": "markdown",
   "id": "c472e6d0-d90f-4712-a99e-c95d8499597a",
   "metadata": {},
   "source": [
    "## For loops"
   ]
  },
  {
   "cell_type": "code",
   "execution_count": 2,
   "id": "88ca77e7-ea19-4fb1-96bf-5608a3808e6b",
   "metadata": {},
   "outputs": [
    {
     "name": "stdout",
     "output_type": "stream",
     "text": [
      "Apple you want it bro\n",
      "Mango you want it bro\n",
      "Peach you want it bro\n"
     ]
    }
   ],
   "source": [
    "fruits=[\"Apple\",\"Mango\",\"Peach\"]\n",
    "for i in fruits:\n",
    "    print(i + \" you want it bro\")"
   ]
  },
  {
   "cell_type": "markdown",
   "id": "6e9bf07b-adc3-4825-b4a2-2e06b1444eeb",
   "metadata": {},
   "source": [
    "## Shortcut to find the sum of all numbers in an array - sum(fruits)"
   ]
  },
  {
   "cell_type": "code",
   "execution_count": 4,
   "id": "ee7b9a60-a1a5-432e-9370-15ca9e992f31",
   "metadata": {},
   "outputs": [
    {
     "name": "stdout",
     "output_type": "stream",
     "text": [
      "925\n"
     ]
    }
   ],
   "source": [
    "student_scores =[150,142,158,120,171,184]\n",
    "total_scores=sum(student_scores)\n",
    "print(total_scores)"
   ]
  },
  {
   "cell_type": "code",
   "execution_count": 6,
   "id": "aa738b3c-5b17-48bf-ab92-c188de2161f3",
   "metadata": {},
   "outputs": [
    {
     "name": "stdout",
     "output_type": "stream",
     "text": [
      "925\n"
     ]
    }
   ],
   "source": [
    "sum=0\n",
    "for x in student_scores:\n",
    "    sum+=x\n",
    "print(sum)    \n"
   ]
  },
  {
   "cell_type": "markdown",
   "id": "7eb24187-cced-4d4b-a570-fe5b8471012c",
   "metadata": {},
   "source": [
    "## To find out the max score in  a list\n",
    "## shortcut - max()"
   ]
  },
  {
   "cell_type": "code",
   "execution_count": 8,
   "id": "ca515ec1-5f1f-4176-80f5-a5c937fef706",
   "metadata": {},
   "outputs": [
    {
     "name": "stdout",
     "output_type": "stream",
     "text": [
      "184\n"
     ]
    }
   ],
   "source": [
    "print(max(student_scores))"
   ]
  },
  {
   "cell_type": "code",
   "execution_count": null,
   "id": "d6e25731-1a99-4321-a657-8e3682db48be",
   "metadata": {},
   "outputs": [],
   "source": [
    "for i in student_scores:\n",
    "    if i >"
   ]
  },
  {
   "cell_type": "code",
   "execution_count": 2,
   "id": "70a93c5c-7611-4402-b2db-24f7f0fbc64e",
   "metadata": {},
   "outputs": [],
   "source": [
    "student_scores =[150,142,158,120,171,184]"
   ]
  },
  {
   "cell_type": "code",
   "execution_count": 4,
   "id": "b47d71ca-dbe3-40b0-b910-ae6182e74fba",
   "metadata": {},
   "outputs": [
    {
     "name": "stdout",
     "output_type": "stream",
     "text": [
      "150\n",
      "158\n"
     ]
    },
    {
     "ename": "IndexError",
     "evalue": "list index out of range",
     "output_type": "error",
     "traceback": [
      "\u001b[1;31m---------------------------------------------------------------------------\u001b[0m",
      "\u001b[1;31mIndexError\u001b[0m                                Traceback (most recent call last)",
      "Cell \u001b[1;32mIn[4], line 2\u001b[0m\n\u001b[0;32m      1\u001b[0m \u001b[38;5;28;01mfor\u001b[39;00m i \u001b[38;5;129;01min\u001b[39;00m \u001b[38;5;28mrange\u001b[39m(\u001b[38;5;28mlen\u001b[39m(student_scores)):\n\u001b[1;32m----> 2\u001b[0m     \u001b[38;5;28;01mif\u001b[39;00m student_scores[i] \u001b[38;5;241m>\u001b[39m student_scores[i\u001b[38;5;241m+\u001b[39m\u001b[38;5;241m1\u001b[39m]:\n\u001b[0;32m      3\u001b[0m         \u001b[38;5;28mprint\u001b[39m(student_scores[i])\n",
      "\u001b[1;31mIndexError\u001b[0m: list index out of range"
     ]
    }
   ],
   "source": [
    "for i in range(len(student_scores)):\n",
    "    if student_scores[i] > student_scores[i+1]:\n",
    "        print(student_scores[i])\n",
    "    "
   ]
  },
  {
   "cell_type": "code",
   "execution_count": 6,
   "id": "25aaee16-8c19-40da-914b-19450cbd6744",
   "metadata": {},
   "outputs": [
    {
     "name": "stdout",
     "output_type": "stream",
     "text": [
      "184\n"
     ]
    }
   ],
   "source": [
    "max_score=0\n",
    "for i in student_scores:\n",
    "    if i > max_score:\n",
    "        max_score = i\n",
    "print(max_score)        \n",
    "    "
   ]
  },
  {
   "cell_type": "code",
   "execution_count": 10,
   "id": "05c42d94-0efb-47c1-af05-41d672e07372",
   "metadata": {},
   "outputs": [
    {
     "name": "stdout",
     "output_type": "stream",
     "text": [
      "1\n",
      "2\n",
      "3\n",
      "4\n",
      "5\n",
      "6\n",
      "7\n",
      "8\n",
      "9\n",
      "10\n"
     ]
    }
   ],
   "source": [
    "for i in range(1,10+1):\n",
    "    print(i)"
   ]
  },
  {
   "cell_type": "code",
   "execution_count": 11,
   "id": "22a385a0-fc29-42b7-b49e-2a3f17f9eb31",
   "metadata": {},
   "outputs": [
    {
     "name": "stdout",
     "output_type": "stream",
     "text": [
      "5050\n"
     ]
    }
   ],
   "source": [
    "#ADD all the numbers from 1 to 100\n",
    "sum=0\n",
    "for i in range(1,101):\n",
    "    sum=sum+i\n",
    "print(sum)    \n",
    "    "
   ]
  },
  {
   "cell_type": "code",
   "execution_count": 13,
   "id": "f4ce82cf-d7e6-4625-9849-0f25024fbed1",
   "metadata": {},
   "outputs": [
    {
     "name": "stdout",
     "output_type": "stream",
     "text": [
      "1\n",
      "2\n",
      "Fizz\n",
      "4\n",
      "Buzz\n",
      "Fizz\n",
      "7\n",
      "8\n",
      "Fizz\n",
      "Buzz\n",
      "11\n",
      "Fizz\n",
      "13\n",
      "14\n",
      "Fizzbuzz\n",
      "16\n",
      "17\n",
      "Fizz\n",
      "19\n",
      "Buzz\n",
      "Fizz\n",
      "22\n",
      "23\n",
      "Fizz\n",
      "Buzz\n",
      "26\n",
      "Fizz\n",
      "28\n",
      "29\n",
      "Fizzbuzz\n",
      "31\n",
      "32\n",
      "Fizz\n",
      "34\n",
      "Buzz\n",
      "Fizz\n",
      "37\n",
      "38\n",
      "Fizz\n",
      "Buzz\n",
      "41\n",
      "Fizz\n",
      "43\n",
      "44\n",
      "Fizzbuzz\n",
      "46\n",
      "47\n",
      "Fizz\n",
      "49\n",
      "Buzz\n",
      "Fizz\n",
      "52\n",
      "53\n",
      "Fizz\n",
      "Buzz\n",
      "56\n",
      "Fizz\n",
      "58\n",
      "59\n",
      "Fizzbuzz\n",
      "61\n",
      "62\n",
      "Fizz\n",
      "64\n",
      "Buzz\n",
      "Fizz\n",
      "67\n",
      "68\n",
      "Fizz\n",
      "Buzz\n",
      "71\n",
      "Fizz\n",
      "73\n",
      "74\n",
      "Fizzbuzz\n",
      "76\n",
      "77\n",
      "Fizz\n",
      "79\n",
      "Buzz\n",
      "Fizz\n",
      "82\n",
      "83\n",
      "Fizz\n",
      "Buzz\n",
      "86\n",
      "Fizz\n",
      "88\n",
      "89\n",
      "Fizzbuzz\n",
      "91\n",
      "92\n",
      "Fizz\n",
      "94\n",
      "Buzz\n",
      "Fizz\n",
      "97\n",
      "98\n",
      "Fizz\n",
      "Buzz\n"
     ]
    }
   ],
   "source": [
    "for i in range(1,101):\n",
    "    if i%3 == 0 and i%5 ==0:\n",
    "        print(\"Fizzbuzz\")\n",
    "    elif i % 3 == 0:\n",
    "        print(\"Fizz\")\n",
    "    elif i % 5 == 0:\n",
    "        print(\"Buzz\")\n",
    "    else:\n",
    "        print(i)"
   ]
  },
  {
   "cell_type": "markdown",
   "id": "dce1720f-a49d-4315-8a84-8a9f9e5b8d75",
   "metadata": {},
   "source": [
    "## Main Project  :: Password Generator"
   ]
  },
  {
   "cell_type": "code",
   "execution_count": 21,
   "id": "73113944-e89b-4cca-9a9b-901280ab1735",
   "metadata": {},
   "outputs": [
    {
     "name": "stdout",
     "output_type": "stream",
     "text": [
      "Welcome to password generator\n"
     ]
    },
    {
     "name": "stdin",
     "output_type": "stream",
     "text": [
      "Enter the number of letters 5\n",
      "Enter the no of symbols you like 2\n",
      "Enter the numbers  2\n"
     ]
    },
    {
     "name": "stdout",
     "output_type": "stream",
     "text": [
      "abcde!#01"
     ]
    }
   ],
   "source": [
    "import random\n",
    "letters=['a', 'b', 'c', 'd', 'e', 'f', 'g', 'h', 'i', 'j', 'k', 'l', 'm', 'n', 'o', 'p', 'q', 'r', 's', 't', 'u', 'v', 'w', 'x', 'y', 'z']\n",
    "numbers=['0','1','2','3','4','5','6','7','8','9']\n",
    "symbols=['!','#','$','%','&','(',')','*','+']\n",
    "\n",
    "print(\"Welcome to password generator\")\n",
    "nr_letters=int(input(\"Enter the number of letters\"))\n",
    "nr_symbols=int(input(\"Enter the no of symbols you like\"))\n",
    "nr_numbers=int(input(\"Enter the numbers \"))\n",
    "\n",
    "\n",
    "\n",
    "for i in range(nr_letters):\n",
    "    print(letters[i],end=\"\")\n",
    "for j in range(nr_symbols):\n",
    "    print(symbols[j],end=\"\")\n",
    "for k in range(nr_numbers):\n",
    "    print(numbers[k],end=\"\")"
   ]
  },
  {
   "cell_type": "code",
   "execution_count": 25,
   "id": "05fdf3a3-4f66-46a1-9db1-20bbf99cef3c",
   "metadata": {},
   "outputs": [
    {
     "name": "stdout",
     "output_type": "stream",
     "text": [
      "Welcome to password generator\n"
     ]
    },
    {
     "name": "stdin",
     "output_type": "stream",
     "text": [
      "Enter the number of letters 5\n",
      "Enter the no of symbols you like 1\n",
      "Enter the numbers  1\n"
     ]
    },
    {
     "name": "stdout",
     "output_type": "stream",
     "text": [
      "wgcsa(1\n"
     ]
    }
   ],
   "source": [
    "import random\n",
    "letters=['a', 'b', 'c', 'd', 'e', 'f', 'g', 'h', 'i', 'j', 'k', 'l', 'm', 'n', 'o', 'p', 'q', 'r', 's', 't', 'u', 'v', 'w', 'x', 'y', 'z']\n",
    "numbers=['0','1','2','3','4','5','6','7','8','9']\n",
    "symbols=['!','#','$','%','&','(',')','*','+']\n",
    "\n",
    "print(\"Welcome to password generator\")\n",
    "nr_letters=int(input(\"Enter the number of letters\"))\n",
    "nr_symbols=int(input(\"Enter the no of symbols you like\"))\n",
    "nr_numbers=int(input(\"Enter the numbers \"))\n",
    "\n",
    "\n",
    "password=\"\"\n",
    "\n",
    "\"\"\"for i in range(1,len(letters)):\n",
    "    random_char=random.choice(letters)\n",
    "    password=password+random_char\n",
    "for j in range(1,len(symbols)):\n",
    "    random_symbols=random.choice(symbols)\n",
    "    password=password+random_symbols\n",
    "for k in range(1,len(numbers)):\n",
    "    random_numbers=random.choice(numbers)\n",
    "    password=password+random_numbers\"\"\"\n",
    "\n",
    "for i in range(1,nr_letters+1):\n",
    "    \n",
    "    password=password+random.choice(letters)\n",
    "for j in range(1,nr_symbols+1):\n",
    "    \n",
    "    password=password+random.choice(symbols)\n",
    "for k in range(1,nr_numbers+1):\n",
    "    \n",
    "    password=password+random.choice(numbers)\n",
    "    \n",
    "    \n",
    "    \n",
    "\n",
    "\n",
    "\n",
    "print(password)\n",
    "\n",
    "\n",
    "\n",
    "\n",
    "\n",
    "\n",
    "\n",
    "\n",
    "\n"
   ]
  },
  {
   "cell_type": "code",
   "execution_count": 20,
   "id": "05275894-6485-407a-b430-8948f8b643af",
   "metadata": {},
   "outputs": [
    {
     "name": "stdout",
     "output_type": "stream",
     "text": [
      "9\n"
     ]
    }
   ],
   "source": [
    "import random\n",
    "numbers=['0','1','2','3','4','5','6','7','8','9']\n",
    "x=random.choice(numbers)\n",
    "print(x)\n"
   ]
  },
  {
   "cell_type": "code",
   "execution_count": null,
   "id": "4861ee92-b6eb-48ed-becd-8630d90582b0",
   "metadata": {},
   "outputs": [],
   "source": []
  }
 ],
 "metadata": {
  "kernelspec": {
   "display_name": "Python [conda env:env]",
   "language": "python",
   "name": "conda-env-env-py"
  },
  "language_info": {
   "codemirror_mode": {
    "name": "ipython",
    "version": 3
   },
   "file_extension": ".py",
   "mimetype": "text/x-python",
   "name": "python",
   "nbconvert_exporter": "python",
   "pygments_lexer": "ipython3",
   "version": "3.12.4"
  }
 },
 "nbformat": 4,
 "nbformat_minor": 5
}
