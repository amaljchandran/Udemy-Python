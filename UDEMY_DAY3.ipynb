{
 "cells": [
  {
   "cell_type": "markdown",
   "id": "08ded9cd-af22-4437-a971-7c6c631ece0c",
   "metadata": {},
   "source": [
    "# Conditional Statements"
   ]
  },
  {
   "cell_type": "markdown",
   "id": "c3744caf-15e6-4dec-8c37-f3a178cc9780",
   "metadata": {},
   "source": [
    " ### Syntax :\n",
    "if condition:\n",
    "    do this\n",
    "else :\n",
    "    do this\n",
    "\n"
   ]
  },
  {
   "cell_type": "markdown",
   "id": "d4c0d560-ad34-44a3-ae85-2e524afa03f5",
   "metadata": {},
   "source": [
    "### First Program"
   ]
  },
  {
   "cell_type": "code",
   "execution_count": 1,
   "id": "7ea10759-7647-42b4-b52b-0afb711d41e5",
   "metadata": {},
   "outputs": [
    {
     "name": "stdin",
     "output_type": "stream",
     "text": [
      "Enter the height 100\n"
     ]
    },
    {
     "name": "stdout",
     "output_type": "stream",
     "text": [
      "Can't Ride\n"
     ]
    }
   ],
   "source": [
    "# Roller coaster ride height Requirement\n",
    "height = int(input(\"Enter the height\"))\n",
    "if height > 120:\n",
    "    print(\"Can Ride\")\n",
    "else:\n",
    "    print(\"Can't Ride,Sorry bro!!\")"
   ]
  },
  {
   "cell_type": "markdown",
   "id": "5cb835bf-6434-4035-9c9d-e58f47c99d01",
   "metadata": {},
   "source": [
    "### Second Program"
   ]
  },
  {
   "cell_type": "code",
   "execution_count": 2,
   "id": "48fb7428-ed95-41d9-a4c1-641ff4a976d6",
   "metadata": {},
   "outputs": [
    {
     "name": "stdin",
     "output_type": "stream",
     "text": [
      "Enter the number you want to check 51\n"
     ]
    },
    {
     "name": "stdout",
     "output_type": "stream",
     "text": [
      "The Given number is Odd\n"
     ]
    }
   ],
   "source": [
    "# To check whether the given number is odd or even\n",
    "num= int(input(\"Enter the number you want to check\"))\n",
    "if num % 2 == 0:\n",
    "    print(\"The Given number is Even\")\n",
    "else:\n",
    "    print(\"The Given number is Odd\")"
   ]
  },
  {
   "cell_type": "markdown",
   "id": "be60f3e6-1026-4e02-9fff-f3718790c217",
   "metadata": {},
   "source": [
    "### Third Programm"
   ]
  },
  {
   "cell_type": "code",
   "execution_count": 7,
   "id": "badc6357-4ef2-4dae-8729-0effc7d6f3d4",
   "metadata": {},
   "outputs": [
    {
     "name": "stdin",
     "output_type": "stream",
     "text": [
      "Enter the height 170\n",
      "Enter the age 10\n"
     ]
    },
    {
     "name": "stdout",
     "output_type": "stream",
     "text": [
      "Bro you have to pay 5$\n"
     ]
    }
   ],
   "source": [
    "# Height and age requirement\n",
    "height = int(input(\"Enter the height\"))\n",
    "\n",
    "\n",
    "if height >= 120:\n",
    "    age =int(input(\"Enter the age\"))\n",
    "    \n",
    "    if age > 18:\n",
    "        print(\"Bro you can ride\")\n",
    "        print(\"Bro you have to pay 12$\")\n",
    "    elif age>=12 and age<=18:\n",
    "        print(\"Bro you have to pay 7$\")\n",
    "    elif age < 12:\n",
    "        print(\"Bro you have to pay 5$\")\n",
    "else:\n",
    "    print(\"Can't Ride,Sorry bro!!\")\n",
    "         \n",
    "    \n",
    "         "
   ]
  },
  {
   "cell_type": "markdown",
   "id": "0490e23c-4894-41f9-a13c-408c59719c0f",
   "metadata": {},
   "source": [
    "### Fourth Programme"
   ]
  },
  {
   "cell_type": "code",
   "execution_count": 8,
   "id": "5d19255f-752b-484e-81e6-6d29ba4e0b87",
   "metadata": {},
   "outputs": [
    {
     "name": "stdout",
     "output_type": "stream",
     "text": [
      "Normal Weight\n"
     ]
    }
   ],
   "source": [
    "#Bmi Calculator\n",
    "weight = 85\n",
    "height = 1.85\n",
    "\n",
    "bmi = weight / (height ** 2)\n",
    "\n",
    "if bmi >= 25:\n",
    "    print(\"OverWeight\")\n",
    "elif bmi < 18.5:\n",
    "    print(\"Under Weight\")\n",
    "elif bmi >= 18.5 and bmi < 25:\n",
    "    print(\"Normal Weight\")\n",
    "  \n",
    "    "
   ]
  },
  {
   "cell_type": "markdown",
   "id": "b05e53e6-05cc-4630-b39c-16be8ad0363a",
   "metadata": {},
   "source": [
    "### 5th Programm"
   ]
  },
  {
   "cell_type": "code",
   "execution_count": 15,
   "id": "80ac0a0a-0896-4efc-b5f5-b63fd192d3a5",
   "metadata": {},
   "outputs": [
    {
     "name": "stdin",
     "output_type": "stream",
     "text": [
      "Enter the height 170\n",
      "Enter the age 15\n"
     ]
    },
    {
     "name": "stdout",
     "output_type": "stream",
     "text": [
      "you have to pay 7 dollars\n"
     ]
    },
    {
     "name": "stdin",
     "output_type": "stream",
     "text": [
      "Y/N Y\n"
     ]
    },
    {
     "name": "stdout",
     "output_type": "stream",
     "text": [
      "total amount would be 10\n"
     ]
    }
   ],
   "source": [
    "# Height Age Photograph\n",
    "\n",
    "height = int(input(\"Enter the height\"))\n",
    "bill=0\n",
    "if height >= 120:\n",
    "    \n",
    "    \n",
    "    age =int(input(\"Enter the age\"))\n",
    "    \n",
    "    if age > 18:\n",
    "        bill =12\n",
    "        print(\"You have to pay 12$\")\n",
    "       \n",
    "            \n",
    "            \n",
    "    elif age>=12 and age<=18:\n",
    "        bill = 7\n",
    "        print(\"you have to pay 7 dollars\")\n",
    "        \n",
    "            \n",
    "    elif age < 12:\n",
    "        bill=5\n",
    "        print(\"you have to pay 5 dollars\")\n",
    "\n",
    "    need_photo=input(\"Y/N\")\n",
    "    if need_photo == \"Y\":\n",
    "        bill=bill+3\n",
    "        print(f\"total amount would be {bill}\")\n",
    "       \n",
    "            \n",
    "else:\n",
    "    print(\"Can't Ride,Sorry bro!!\")"
   ]
  },
  {
   "cell_type": "markdown",
   "id": "619336c2-eea2-4a2a-b6cd-20c8ca99bfe5",
   "metadata": {},
   "source": [
    "## 6th Programme"
   ]
  },
  {
   "cell_type": "code",
   "execution_count": 30,
   "id": "78a902a5-a32f-4a49-8475-23e9304c851f",
   "metadata": {},
   "outputs": [
    {
     "name": "stdout",
     "output_type": "stream",
     "text": [
      "Welcome to python pizza deliveries!\n"
     ]
    },
    {
     "name": "stdin",
     "output_type": "stream",
     "text": [
      "What size of pizza do you want ?S,M or L :  L\n",
      "Do you want Peporoni on your pizza? Y or N :  N\n",
      "Do you want extra cheese Y or N :  Y\n"
     ]
    },
    {
     "name": "stdout",
     "output_type": "stream",
     "text": [
      "Your total bill is 26\n"
     ]
    }
   ],
   "source": [
    "#Pizza Deliveries\n",
    "\n",
    "print(\"Welcome to python pizza deliveries!\")\n",
    "size=input(\"What size of pizza do you want ?S,M or L : \")\n",
    "pepperoni = input(\"Do you want Peporoni on your pizza? Y or N : \")\n",
    "extra_cheese =input(\"Do you want extra cheese Y or N : \")\n",
    "price = 0\n",
    "\n",
    "if size == \"S\":\n",
    "    price = 15\n",
    "elif size == \"M\":\n",
    "    price = 20\n",
    "elif size == \"L\":\n",
    "    price =25\n",
    "\n",
    "if pepperoni == \"Y\" and size ==\"S\" :\n",
    "    price=price+2\n",
    "elif pepperoni == \"Y\" and size ==\"M\" :\n",
    "    price=price+3\n",
    "elif pepperoni == \"Y\" and size ==\"L\" :\n",
    "    price=price+3\n",
    "if extra_cheese == \"Y\":\n",
    "        price = price +1\n",
    "\n",
    "\n",
    "'''if peporoni == \"Y\":\n",
    "    if size == \"S\":\n",
    "        price +=2\n",
    "    else:\n",
    "        price +=3'''\n",
    "\n",
    "\n",
    "print(f\"Your total bill is {price}\")\n",
    "    \n",
    "    \n",
    "#Executed 12 test cases    \n",
    "    \n"
   ]
  },
  {
   "cell_type": "code",
   "execution_count": 43,
   "id": "7c5e8eb8-6c82-4331-b98b-a05d193a1a32",
   "metadata": {},
   "outputs": [
    {
     "name": "stdout",
     "output_type": "stream",
     "text": [
      "Welcome to treasure Island\n",
      "Your mission is to find the treasure\n"
     ]
    },
    {
     "name": "stdin",
     "output_type": "stream",
     "text": [
      "Choose between Left or Right Right\n"
     ]
    },
    {
     "name": "stdout",
     "output_type": "stream",
     "text": [
      "Game Over\n"
     ]
    }
   ],
   "source": [
    "#Treasure Island Programme\n",
    "print(\"Welcome to treasure Island\")\n",
    "print(\"Your mission is to find the treasure\")\n",
    "option=input(\"Choose between Left or Right\")\n",
    "\n",
    "if option == \"Right\":\n",
    "    print(\"Game Over\")\n",
    "elif option == \"Left\":\n",
    "    option1=input(\"Choose between Swim or Wait\")    \n",
    "    if option1 ==\"Swim\":\n",
    "        print(\"Game Over\")\n",
    "    elif option1== \"Wait\":    \n",
    "        option2=input(\"Which door ?RED/BLUE/yellow\") \n",
    "        if option2 ==\"Red\":\n",
    "           print(\"Game over\")\n",
    "        elif option2 == \"Blue\":\n",
    "           print(\"Game over\")\n",
    "        else:\n",
    "           print(\"You win!!\")\n",
    "        \n",
    "       \n",
    "\n"
   ]
  },
  {
   "cell_type": "code",
   "execution_count": null,
   "id": "b56b35a3-4de9-4aa9-8de0-d3666f46b5b3",
   "metadata": {},
   "outputs": [],
   "source": []
  }
 ],
 "metadata": {
  "kernelspec": {
   "display_name": "Python [conda env:env]",
   "language": "python",
   "name": "conda-env-env-py"
  },
  "language_info": {
   "codemirror_mode": {
    "name": "ipython",
    "version": 3
   },
   "file_extension": ".py",
   "mimetype": "text/x-python",
   "name": "python",
   "nbconvert_exporter": "python",
   "pygments_lexer": "ipython3",
   "version": "3.12.4"
  }
 },
 "nbformat": 4,
 "nbformat_minor": 5
}
