{
 "cells": [
  {
   "cell_type": "markdown",
   "id": "b1bad67d-beda-4092-9d13-996ad2f3d3cd",
   "metadata": {},
   "source": [
    "# Function, code blocks and while loop"
   ]
  },
  {
   "cell_type": "code",
   "execution_count": null,
   "id": "6147f0c9-12e1-4df8-9afd-2cc8dc6ecaa2",
   "metadata": {},
   "outputs": [],
   "source": [
    "# SYNTAX:\n",
    "  def my_function():\n",
    "      do this // lines to be executed\n",
    "      then this"
   ]
  },
  {
   "cell_type": "code",
   "execution_count": 1,
   "id": "ca385e11-82df-41e4-9a19-c093fdf65619",
   "metadata": {},
   "outputs": [
    {
     "name": "stdout",
     "output_type": "stream",
     "text": [
      "hey yo\n",
      "ssup nigga\n"
     ]
    }
   ],
   "source": [
    "def blahblah():\n",
    "    print(\"hey yo\")\n",
    "    print(\"ssup nigga\")\n",
    "blahblah()    "
   ]
  },
  {
   "cell_type": "markdown",
   "id": "6fde2091-e540-4adf-b91c-388c981a8ce7",
   "metadata": {},
   "source": [
    "#To learn about functions refer this URL\n",
    "\n",
    "https://reeborg.ca/reeborg.html?lang=en&mode=python&menu=worlds%2Fmenus%2Freeborg_intro_en.json&name=Alone&url=worlds%2Ftutorial_en%2Falone.json\n",
    "\n",
    "#Do hrdle 1"
   ]
  },
  {
   "cell_type": "markdown",
   "id": "8f17b136-5e43-4349-8c96-b7ffb115c8b6",
   "metadata": {},
   "source": [
    "# While loops"
   ]
  },
  {
   "cell_type": "markdown",
   "id": "21683075-77a5-44dd-95c0-482aa7e4fe14",
   "metadata": {},
   "source": [
    "## While loops continue running until our condition turns true"
   ]
  },
  {
   "cell_type": "code",
   "execution_count": 2,
   "id": "f48a9ae5-fdd6-4279-8407-4ba25d4e8576",
   "metadata": {},
   "outputs": [
    {
     "name": "stdout",
     "output_type": "stream",
     "text": [
      "YOLO\n",
      "YOLO\n",
      "YOLO\n",
      "YOLO\n",
      "YOLO\n",
      "YOLO\n"
     ]
    }
   ],
   "source": [
    "n=6             // Declaring a variable\n",
    "while n>0:      // setting up the condition\n",
    "    print(\"YOLO\") // Statement\n",
    "    n-=1          // Incrementation"
   ]
  },
  {
   "cell_type": "markdown",
   "id": "c99ceda7-c7a9-47a1-8de7-ac168fd4a63c",
   "metadata": {},
   "source": [
    "## Hurdel 2\n",
    "def move_robot():    \n",
    "    move()\n",
    "    turn_left()\n",
    "    move()\n",
    "    turn_right()\n",
    "    move()\n",
    "    turn_right()\n",
    "    move()\n",
    "    turn_left()\n",
    "\n",
    "goal=True\n",
    "\n",
    "while goal != at_goal():\n",
    "    move_robot()"
   ]
  },
  {
   "cell_type": "code",
   "execution_count": null,
   "id": "597cdf28-51f1-4965-a74f-6672b6ff9bd2",
   "metadata": {},
   "outputs": [],
   "source": [
    "## Hurdel 3 (Varying goal post)\n",
    "\n",
    "while not at_goal():\n",
    "    if wall_in_front():\n",
    "        jump()\n",
    "    else:\n",
    "        move()"
   ]
  },
  {
   "cell_type": "code",
   "execution_count": null,
   "id": "27c862ad-945a-443c-a4c5-326b1eaa95b1",
   "metadata": {},
   "outputs": [],
   "source": []
  },
  {
   "cell_type": "code",
   "execution_count": null,
   "id": "addbc26b-8f77-4c9b-a55b-f59eddba4dde",
   "metadata": {},
   "outputs": [],
   "source": []
  },
  {
   "cell_type": "code",
   "execution_count": null,
   "id": "0c751962-47a1-4d8a-b3b6-0279a7ec352a",
   "metadata": {},
   "outputs": [],
   "source": []
  },
  {
   "cell_type": "code",
   "execution_count": null,
   "id": "14505e51-23c1-481a-b7b6-61f915500639",
   "metadata": {},
   "outputs": [],
   "source": []
  },
  {
   "cell_type": "code",
   "execution_count": null,
   "id": "61c43c6c-a08d-4ddb-8e7d-97ac5dbb0a0b",
   "metadata": {},
   "outputs": [],
   "source": []
  }
 ],
 "metadata": {
  "kernelspec": {
   "display_name": "Python [conda env:env]",
   "language": "python",
   "name": "conda-env-env-py"
  },
  "language_info": {
   "codemirror_mode": {
    "name": "ipython",
    "version": 3
   },
   "file_extension": ".py",
   "mimetype": "text/x-python",
   "name": "python",
   "nbconvert_exporter": "python",
   "pygments_lexer": "ipython3",
   "version": "3.12.4"
  }
 },
 "nbformat": 4,
 "nbformat_minor": 5
}
